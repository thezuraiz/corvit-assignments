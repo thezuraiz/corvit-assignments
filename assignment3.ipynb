{
 "cells": [
  {
   "cell_type": "code",
   "execution_count": 1,
   "id": "9ec8b4ed-7533-452a-bf4d-f04b520608da",
   "metadata": {},
   "outputs": [
    {
     "name": "stdout",
     "output_type": "stream",
     "text": [
      "Enter Name:  Zuraiz\n"
     ]
    },
    {
     "name": "stdout",
     "output_type": "stream",
     "text": [
      "Hello, Zuraiz! Welcome to the Python assignment.\n"
     ]
    },
    {
     "name": "stdout",
     "output_type": "stream",
     "text": [
      "Hello, zuriaz! Welcome to the Python assignment.\n"
     ]
    }
   ],
   "source": [
    "name = input(\"Enter Name: \");\n",
    "# Q1\n",
    "print(f\"Hello, {name}! Welcome to the Python assignment.\")"
   ]
  },
  {
   "cell_type": "code",
   "execution_count": null,
   "id": "ef07087c-e20d-4786-ae24-ef435dde19d4",
   "metadata": {},
   "outputs": [],
   "source": [
    "# String methods\n",
    "# Print the user’s name in all uppercase letters.\n",
    "name=\"Zuraiz Khan\"\n",
    "print(name.upper());"
   ]
  },
  {
   "cell_type": "code",
   "execution_count": null,
   "id": "f0041a55-1ff8-4514-b518-f01e41c290f3",
   "metadata": {},
   "outputs": [],
   "source": [
    "# Print the user’s name in all lowercase letters.\n",
    "print(name.lower())"
   ]
  },
  {
   "cell_type": "code",
   "execution_count": null,
   "id": "a78547ef-5b63-4120-919a-cd62ca71b03f",
   "metadata": {},
   "outputs": [],
   "source": [
    "# Print the length of the user’s name (number of characters).\n",
    "print(name.__len__())"
   ]
  },
  {
   "cell_type": "code",
   "execution_count": null,
   "id": "30bbc5a6-2654-4718-a0ca-7797da040ed4",
   "metadata": {},
   "outputs": [],
   "source": [
    "# Replace all the spaces in the user’s name with hyphens (-), and print the result.\n",
    "print(name.replace(' ','-'))"
   ]
  },
  {
   "cell_type": "code",
   "execution_count": null,
   "id": "8338ae9f-1bb1-4e6d-86d1-385aa9b8e740",
   "metadata": {},
   "outputs": [],
   "source": [
    "# Bonus: Trim any leading or trailing spaces (if any) from the user’s name using strip().\n",
    "name=\" Zuraiz Khan \"\n",
    "print(name.strip())"
   ]
  },
  {
   "cell_type": "code",
   "execution_count": null,
   "id": "a4318f4e-2313-4d77-934e-a5e550af3742",
   "metadata": {},
   "outputs": [
    {
     "name": "stdout",
     "output_type": "stream",
     "text": [
      "2025-09-10\n",
      "2025\n",
      "Current by is 2002, so you are approximately 23 years old.\n"
     ]
    }
   ],
   "source": [
    "# Type casting and numeric operations\n",
    "\n",
    "# Ask the user to enter their birth year (as input). Convert that input to an integer.\n",
    "# Calculate the user’s approximate age by subtracting the birth year from the current year. Print the result in a sentence.\n",
    "# Example output:\n",
    "from datetime import date\n",
    "birthYear= int(input(\"Enter Birthday Year: \"));\n",
    "now = date.today()\n",
    "print(now)\n",
    "year = now.year\n",
    "print(year)\n",
    "print(f\"Current by is {birthYear}, so you are approximately {year-birthYear} years old.\")"
   ]
  },
  {
   "cell_type": "markdown",
   "id": "2ad01f94-51f9-40ff-afb2-8d54334d7ba8",
   "metadata": {},
   "source": [
    "# Part 2: Lists and Indexing"
   ]
  },
  {
   "cell_type": "code",
   "execution_count": null,
   "id": "d1fef6a4-a90e-4def-ae7f-ab6b8c7100ba",
   "metadata": {},
   "outputs": [
    {
     "name": "stdout",
     "output_type": "stream",
     "text": [
      "['apple', ' banana', ' mango']\n"
     ]
    }
   ],
   "source": [
    "userInput = input('Enter three of your favorite fruits (comma-separated): ');\n",
    "fruits = userInput.split(',');\n",
    "print(fruits)"
   ]
  },
  {
   "cell_type": "markdown",
   "id": "2d9b70cb-c36e-4c0a-8f95-37ef364cfb0e",
   "metadata": {},
   "source": [
    "# List indexing and slicing"
   ]
  },
  {
   "cell_type": "code",
   "execution_count": null,
   "id": "f5094b41-5da3-4846-a939-756e81c4784d",
   "metadata": {},
   "outputs": [],
   "source": [
    "# Print the first fruit in the list.\n",
    "print(f\"First fruit: {fruits[0]}\")"
   ]
  },
  {
   "cell_type": "code",
   "execution_count": null,
   "id": "3fcbf222-445f-476a-a2dd-91e01a3a79e6",
   "metadata": {},
   "outputs": [],
   "source": [
    "# Print the last fruit in the list.\n",
    "print(f\"Last fruit: {fruits[2]}\")\n",
    "# print(f'Last fruit:  {fruits.pop()}') #I know i remove last index but its prints the last index as per requirement"
   ]
  },
  {
   "cell_type": "code",
   "execution_count": null,
   "id": "74d1d73e-d3f5-4e65-b383-604ba3705be8",
   "metadata": {},
   "outputs": [],
   "source": [
    "# First two fruits: ['apple', ' banana']\n",
    "print(f\"First two fruits: {fruits[:2]}\")"
   ]
  },
  {
   "cell_type": "code",
   "execution_count": null,
   "id": "6234222c-ec40-4841-8371-bb1aedd49e32",
   "metadata": {},
   "outputs": [
    {
     "name": "stdout",
     "output_type": "stream",
     "text": [
      "Updated list: ['apple', ' banana', ' mango', 'licho', 'licj', 'lichi', 'orange', 'peach']\n"
     ]
    }
   ],
   "source": [
    "# Adding a new fruit...\n",
    "newFruits = input(\"Adding a new fruit...: \")\n",
    "fruits.append(newFruits)\n",
    "print(f\"Updated list: {fruits}\")"
   ]
  },
  {
   "cell_type": "code",
   "execution_count": null,
   "id": "77f30308-8966-43c9-8978-f09e1a0d9fe1",
   "metadata": {},
   "outputs": [],
   "source": [
    "# Removing one fruit...\n",
    "fruits.remove(\"licj\")\n",
    "print(f\"Updated list: {fruits}\")"
   ]
  },
  {
   "cell_type": "code",
   "execution_count": null,
   "id": "57aeceff-1a49-4fdc-8db7-37fa06b194ca",
   "metadata": {},
   "outputs": [],
   "source": [
    "# Length of the list:\n",
    "print(f\"Length of the list is now {len(fruits)}\")\n"
   ]
  },
  {
   "cell_type": "code",
   "execution_count": null,
   "id": "6ff1da57-76c5-4765-992e-6c764c146c02",
   "metadata": {},
   "outputs": [
    {
     "name": "stdout",
     "output_type": "stream",
     "text": [
      "First 3 letters: ['Z', 'u', 'r']\n",
      "Last 3 letters: ['a', 'i', 'z']\n"
     ]
    }
   ],
   "source": [
    "# Part 3 (Optional Challenge): Combining Concepts\n",
    "# Create a new list from the letters of your full_name (excluding spaces).\n",
    "fullName= input(\"Enter Name: \")\n",
    "letters_list = list(fullName.replace(\" \", \"\"))\n",
    "print(f\"First 3 letters: {letters_list[:3]}\")\n",
    "print(f\"Last 3 letters: {letters_list[-3:]}\")"
   ]
  },
  {
   "cell_type": "code",
   "execution_count": null,
   "id": "a773182b-c46c-47d7-90ec-c90551b80079",
   "metadata": {},
   "outputs": [],
   "source": [
    "# Manipulate and Reconstruct\n",
    "upper = \"\".join(letters_list[:3]).upper()\n",
    "lower = \"\".join(letters_list[-3:]).lower()\n",
    "print(f\"Modified name: {upper}{lower}\")"
   ]
  },
  {
   "cell_type": "code",
   "execution_count": null,
   "id": "1503dfae-76b9-48d2-80a1-adb0f0d83786",
   "metadata": {},
   "outputs": [
    {
     "name": "stdout",
     "output_type": "stream",
     "text": [
      "['10', '20']\n",
      "Sum of your numbers: 30\n",
      "Average of your numbers: 15.0\n"
     ]
    }
   ],
   "source": [
    "# Simple Arithmetic on a List of Numbers\n",
    "# Prompt the user to enter 5 numbers (e.g., \"10 20 30 40 50\") in one line, separated by spaces.\n",
    "num = input('Enter 5 numbers (e.g., \"10 20 30 40 50\") in one line: ');\n",
    "print(num.split())\n",
    "num_list = list(map(int, num.split()))\n",
    "\n",
    "sum =0;\n",
    "for i in num_list:\n",
    "    sum=sum+i\n",
    "print(f\"Sum of your numbers: {sum}\")\n",
    "print(f\"Average of your numbers: {sum/len(num_list)}\")"
   ]
  },
  {
   "cell_type": "code",
   "execution_count": null,
   "id": "1d00b293-bb6c-422f-b6ae-e85bf3d58fb7",
   "metadata": {},
   "outputs": [],
   "source": [
    "# Palamdome"
   ]
  },
  {
   "cell_type": "code",
   "execution_count": null,
   "id": "a1bf1247-5dd4-4a89-9339-703e39b438b9",
   "metadata": {},
   "outputs": [],
   "source": [
    "def subString(sentence):\n",
    "    common = []\n",
    "    words = list(sentence)\n",
    "    length = len(words)\n",
    "    half = length//2\n",
    "    # print(\"==>\",words,half)\n",
    "    for i in range(half):\n",
    "        first = sentence[i]\n",
    "        last = sentence[-(i+1)]\n",
    "        # print(\"First, Last =>\",first,last)\n",
    "        if(first == last):\n",
    "            # print(\"matahed\")\n",
    "            common.append(first)\n",
    "            # print(sentence[half])\n",
    "            if(length %2!=0):\n",
    "                common.append(sentence[half])\n",
    "            common.append(last)\n",
    "        \n",
    "        # print(\"Common\",common)\n",
    "        result = \"\".join(common)\n",
    "        # print(result)\n",
    "    return result\n",
    "       \n",
    "    \n",
    "print(\"result: \",subString(\"babad\"))\n",
    "print(\"result: \",subString(\"cbbd\"))\n"
   ]
  }
 ],
 "metadata": {
  "kernelspec": {
   "display_name": "Python [conda env:base] *",
   "language": "python",
   "name": "conda-base-py"
  },
  "language_info": {
   "codemirror_mode": {
    "name": "ipython",
    "version": 3
   },
   "file_extension": ".py",
   "mimetype": "text/x-python",
   "name": "python",
   "nbconvert_exporter": "python",
   "pygments_lexer": "ipython3",
   "version": "3.13.5"
  }
 },
 "nbformat": 4,
 "nbformat_minor": 5
}
